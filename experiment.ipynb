{
 "cells": [
  {
   "cell_type": "code",
   "execution_count": null,
   "metadata": {},
   "outputs": [],
   "source": [
    "import torch\n",
    "from constants import TRAIN_TRANSFORM, batch_size, latent_dim, lr, epochs\n",
    "from torch.utils.data import random_split, DataLoader\n",
    "\n",
    "from model import CVAE\n",
    "from dataset import CelebADataset\n",
    "from scoring import get_fid_score\n",
    "import numpy as np\n",
    "from utils import get_tsne, plot_representation\n",
    "import pandas as pd\n",
    "from torchmetrics.image.fid import FrechetInceptionDistance\n",
    "from tqdm import tqdm"
   ]
  },
  {
   "cell_type": "code",
   "execution_count": null,
   "metadata": {},
   "outputs": [],
   "source": [
    "# Read the attributes CSV file\n",
    "attributes_df = pd.read_csv(\"./data/list_attr_celeba.csv\")\n",
    "# Change -1 values in the dataframe to 0\n",
    "# attributes_df.replace(to_replace=-1, value=0, inplace=True)\n",
    "\n",
    "# Number of attributes\n",
    "n_attributes = attributes_df.shape[1] - 1\n",
    "print(n_attributes)"
   ]
  },
  {
   "cell_type": "code",
   "execution_count": null,
   "metadata": {},
   "outputs": [],
   "source": [
    "# Set random seed for reproducibility\n",
    "torch.manual_seed(0)\n",
    "\n",
    "# Load and split the CelebA dataset\n",
    "celeba_data_path = './data/img_align_celeba/img_align_celeba/'\n",
    "\n",
    "dataset = CelebADataset(celeba_data_path, attributes_df, transform=TRAIN_TRANSFORM)\n",
    "\n",
    "train_size = int(0.8 * len(dataset))\n",
    "val_size = len(dataset) - train_size\n",
    "train_dataset, val_dataset = random_split(dataset, [train_size, val_size])\n",
    "\n",
    "val_loader = DataLoader(\n",
    "    val_dataset, batch_size=batch_size, shuffle=False, num_workers=16)\n",
    "\n",
    "# Create the VAE model and optimizer\n",
    "device = torch.device('cuda' if torch.cuda.is_available() else 'cpu')\n"
   ]
  },
  {
   "cell_type": "code",
   "execution_count": null,
   "metadata": {},
   "outputs": [],
   "source": [
    "# model = CVAE(latent_dim, n_attributes).to(device)\n",
    "from model_vae import VAE\n",
    "\n",
    "model = VAE(latent_dim).to(device)\n",
    "\n",
    "model.load_state_dict(torch.load('./saved_models/vae.pth'))\n",
    "encoder = model.encoder\n",
    "encoder = encoder.to(device)\n",
    "\n",
    "model.eval()\n",
    "encoder.eval()"
   ]
  },
  {
   "cell_type": "code",
   "execution_count": null,
   "metadata": {},
   "outputs": [],
   "source": [
    "fid_score = FrechetInceptionDistance(n_features=64).to(device)\n",
    "\n",
    "latent_rep = []\n",
    "labels = []\n",
    "\n",
    "with torch.no_grad():\n",
    "    for imgs, label in tqdm(val_loader, desc=f\"Epoch [{0}/{1}]\"):\n",
    "        imgs = imgs.to(device)\n",
    "        label_one_hot = label.to(device)\n",
    "        x, _, _ = encoder(imgs)\n",
    "        \n",
    "        # get the last column of the label\n",
    "        label_to_assign = []\n",
    "\n",
    "        for l in label:\n",
    "            if l[-1] == 1:\n",
    "                label_to_assign.append(len(l) - 1)\n",
    "            else:\n",
    "                for i, attr in enumerate(l):\n",
    "                    if attr == 1:\n",
    "                        label_to_assign.append(i)\n",
    "                        break\n",
    "\n",
    "        latent_rep.append(x.cpu().numpy())\n",
    "        labels.append(label_to_assign)\n",
    "        \n",
    "        z, _, _ = model(imgs)\n",
    "\n",
    "        fid_score = get_fid_score(fid_score, imgs, z)\n",
    "\n",
    "print(f'FID score: {fid_score.compute():.4f}')\n",
    "\n",
    "labels = np.concatenate(labels, axis=0)\n",
    "latent_rep = np.concatenate(latent_rep, axis=0)\n",
    "\n",
    "tsne = get_tsne(latent_rep, no_components=2)\n",
    "\n",
    "plot_representation(latent_rep=tsne, labels=labels)"
   ]
  }
 ],
 "metadata": {
  "kernelspec": {
   "display_name": "Python 3",
   "language": "python",
   "name": "python3"
  },
  "language_info": {
   "codemirror_mode": {
    "name": "ipython",
    "version": 3
   },
   "file_extension": ".py",
   "mimetype": "text/x-python",
   "name": "python",
   "nbconvert_exporter": "python",
   "pygments_lexer": "ipython3",
   "version": "3.11.3"
  },
  "orig_nbformat": 4
 },
 "nbformat": 4,
 "nbformat_minor": 2
}
